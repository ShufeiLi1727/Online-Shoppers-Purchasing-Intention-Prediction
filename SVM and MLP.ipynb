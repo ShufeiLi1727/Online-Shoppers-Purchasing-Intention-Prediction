{
 "cells": [
  {
   "cell_type": "code",
   "execution_count": 7,
   "metadata": {},
   "outputs": [],
   "source": [
    "import pandas as pd\n",
    "from imblearn.over_sampling import SMOTE\n",
    "from sklearn.ensemble import RandomForestClassifier\n",
    "from sklearn.svm import SVC\n",
    "from sklearn.metrics import confusion_matrix,f1_score, roc_auc_score, accuracy_score\n",
    "from sklearn.model_selection import train_test_split, GridSearchCV, cross_val_score\n",
    "\n",
    "from sklearn.neural_network import MLPClassifier\n",
    "from sklearn.metrics import precision_recall_fscore_support\n",
    "from collections import Counter"
   ]
  },
  {
   "cell_type": "code",
   "execution_count": 2,
   "metadata": {},
   "outputs": [],
   "source": [
    "train =pd.read_csv('train_unb.csv')\n",
    "test = pd.read_csv('test.csv')\n",
    "train_b = pd.read_csv('train_b.csv')"
   ]
  },
  {
   "cell_type": "code",
   "execution_count": 3,
   "metadata": {},
   "outputs": [],
   "source": [
    "# split x y\n",
    "train_x = train.drop(['Revenue'], axis=1)\n",
    "train_y=train['Revenue']\n",
    "\n",
    "\n",
    "test_x = test.drop(['Revenue'], axis=1)\n",
    "test_y=test['Revenue']\n",
    "\n",
    "\n",
    "train_b_x = train_b.drop(['Revenue'], axis=1)\n",
    "train_b_y=train_b['Revenue']"
   ]
  },
  {
   "cell_type": "code",
   "execution_count": 4,
   "metadata": {},
   "outputs": [],
   "source": [
    "# tuning \n",
    "parameters1 = {'kernel':['rbf'], 'gamma': [1e-2, 1e-3,1e-4], 'C':[1, 5,10,50]}\n",
    "parameters2 = {'kernel':['linear'], 'C':[0.25, 0.5,1,2]}"
   ]
  },
  {
   "cell_type": "code",
   "execution_count": 20,
   "metadata": {},
   "outputs": [
    {
     "data": {
      "text/plain": [
       "GridSearchCV(estimator=SVC(),\n",
       "             param_grid={'C': [1, 5, 10, 50], 'gamma': [0.01, 0.001, 0.0001],\n",
       "                         'kernel': ['rbf']})"
      ]
     },
     "execution_count": 20,
     "metadata": {},
     "output_type": "execute_result"
    }
   ],
   "source": [
    "svc = SVC()\n",
    "clf_rbf = GridSearchCV(svc, parameters1)\n",
    "clf_rbf.fit(train_x,train_y)"
   ]
  },
  {
   "cell_type": "code",
   "execution_count": 22,
   "metadata": {},
   "outputs": [
    {
     "data": {
      "text/plain": [
       "{'C': 1, 'gamma': 0.01, 'kernel': 'rbf'}"
      ]
     },
     "execution_count": 22,
     "metadata": {},
     "output_type": "execute_result"
    }
   ],
   "source": [
    "clf_rbf.cv_results_['params'][clf_rbf.best_index_]"
   ]
  },
  {
   "cell_type": "code",
   "execution_count": 32,
   "metadata": {},
   "outputs": [],
   "source": [
    "# SVM model: kernel: rbf, gamma0.01: , C:1\n",
    "SVM_selected = SVC(kernel = \"rbf\", gamma=0.01,C=1)\n",
    "SVM_selected.fit(train_x,train_y)\n",
    "pred_y_rbf = SVM_selected.predict(test_x)"
   ]
  },
  {
   "cell_type": "code",
   "execution_count": 33,
   "metadata": {},
   "outputs": [
    {
     "name": "stdout",
     "output_type": "stream",
     "text": [
      "accuracy score:  0.8448229251148959\n",
      "roc_auc score:  0.5\n"
     ]
    }
   ],
   "source": [
    "auc = accuracy_score(test_y, pred_y_rbf)\n",
    "ROC_auc = roc_auc_score(test_y, pred_y_rbf)\n",
    "print('accuracy score: ', auc)\n",
    "print('roc_auc score: ', ROC_auc)"
   ]
  },
  {
   "cell_type": "code",
   "execution_count": 34,
   "metadata": {},
   "outputs": [
    {
     "name": "stdout",
     "output_type": "stream",
     "text": [
      "macroaveraged F1:  0.4579425556858147\n",
      "microaveraged F1:  0.8448229251148958\n"
     ]
    }
   ],
   "source": [
    "macro_F1 = f1_score(test_y, pred_y_rbf, average='macro')\n",
    "micro_F1 = f1_score(test_y, pred_y_rbf, average='micro')\n",
    "print('macroaveraged F1: ', macro_F1)\n",
    "print('microaveraged F1: ', micro_F1)"
   ]
  },
  {
   "cell_type": "code",
   "execution_count": 5,
   "metadata": {},
   "outputs": [],
   "source": [
    "# SVM model kernel linear, C=2\n",
    "SVM_lin = SVC(kernel = \"linear\", C=2)\n",
    "SVM_lin.fit(train_x,train_y)\n",
    "pred_y_lin = SVM_lin.predict(test_x)"
   ]
  },
  {
   "cell_type": "code",
   "execution_count": 6,
   "metadata": {},
   "outputs": [
    {
     "name": "stdout",
     "output_type": "stream",
     "text": [
      "accuracy score:  0.8732089753987564\n",
      "roc_auc score:  0.7784774912891985\n"
     ]
    }
   ],
   "source": [
    "auc = accuracy_score(test_y, pred_y_lin)\n",
    "ROC_auc = roc_auc_score(test_y, pred_y_lin)\n",
    "print('accuracy score: ', auc)\n",
    "print('roc_auc score: ', ROC_auc)"
   ]
  },
  {
   "cell_type": "code",
   "execution_count": 7,
   "metadata": {},
   "outputs": [
    {
     "name": "stdout",
     "output_type": "stream",
     "text": [
      "macroaveraged F1:  0.7675288590451138\n",
      "microaveraged F1:  0.8732089753987564\n"
     ]
    }
   ],
   "source": [
    "macro_F1 = f1_score(test_y, pred_y_lin, average='macro')\n",
    "micro_F1 = f1_score(test_y, pred_y_lin, average='micro')\n",
    "print('macroaveraged F1: ', macro_F1)\n",
    "print('microaveraged F1: ', micro_F1)"
   ]
  },
  {
   "cell_type": "code",
   "execution_count": 5,
   "metadata": {},
   "outputs": [],
   "source": [
    "# polynomial\n",
    "SVM_poly = SVC(kernel = \"poly\", C=1,gamma=0.01,degree=2)\n",
    "SVM_poly.fit(train_x,train_y)\n",
    "pred_y_poly = SVM_poly.predict(test_x) "
   ]
  },
  {
   "cell_type": "code",
   "execution_count": 6,
   "metadata": {},
   "outputs": [
    {
     "name": "stdout",
     "output_type": "stream",
     "text": [
      "accuracy score:  0.8848337388483374\n",
      "roc_auc score:  0.6936281533101045\n"
     ]
    }
   ],
   "source": [
    "auc = accuracy_score(test_y, pred_y_poly)\n",
    "ROC_auc = roc_auc_score(test_y, pred_y_poly)\n",
    "print('accuracy score: ', auc)\n",
    "print('roc_auc score: ', ROC_auc)"
   ]
  },
  {
   "cell_type": "code",
   "execution_count": 7,
   "metadata": {},
   "outputs": [
    {
     "name": "stdout",
     "output_type": "stream",
     "text": [
      "macroaveraged F1:  0.7315810237360014\n",
      "microaveraged F1:  0.8848337388483374\n"
     ]
    }
   ],
   "source": [
    "macro_F1 = f1_score(test_y, pred_y_poly, average='macro')\n",
    "micro_F1 = f1_score(test_y, pred_y_poly, average='micro')\n",
    "print('macroaveraged F1: ', macro_F1)\n",
    "print('microaveraged F1: ', micro_F1)"
   ]
  },
  {
   "cell_type": "code",
   "execution_count": 4,
   "metadata": {},
   "outputs": [],
   "source": [
    "# Balanced data\n",
    "# SVM model kernel linear, C=2\n",
    "SVM_linb = SVC(kernel = \"linear\", C=2)\n",
    "SVM_linb.fit(train_b_x,train_b_y)\n",
    "pred_y_linb = SVM_linb.predict(test_x)"
   ]
  },
  {
   "cell_type": "code",
   "execution_count": 5,
   "metadata": {},
   "outputs": [
    {
     "name": "stdout",
     "output_type": "stream",
     "text": [
      "accuracy score:  0.8799675587996756\n",
      "roc_auc score:  0.7945658536585367\n"
     ]
    }
   ],
   "source": [
    "auc = accuracy_score(test_y, pred_y_linb)\n",
    "ROC_auc = roc_auc_score(test_y, pred_y_linb)\n",
    "print('accuracy score: ', auc)\n",
    "print('roc_auc score: ', ROC_auc)"
   ]
  },
  {
   "cell_type": "code",
   "execution_count": 6,
   "metadata": {},
   "outputs": [
    {
     "name": "stdout",
     "output_type": "stream",
     "text": [
      "macroaveraged F1:  0.7812343487258397\n",
      "microaveraged F1:  0.8799675587996756\n"
     ]
    }
   ],
   "source": [
    "macro_F1 = f1_score(test_y, pred_y_linb, average='macro')\n",
    "micro_F1 = f1_score(test_y, pred_y_linb, average='micro')\n",
    "print('macroaveraged F1: ', macro_F1)\n",
    "print('microaveraged F1: ', micro_F1)"
   ]
  },
  {
   "cell_type": "code",
   "execution_count": 8,
   "metadata": {},
   "outputs": [],
   "source": [
    "# Multi layers perceptron\n",
    "# unbalanced single layer\n",
    "un_single_mlp = MLPClassifier(hidden_layer_sizes=(50),max_iter=300,random_state = 42,learning_rate_init=0.001).fit(train_x,train_y.values.ravel())"
   ]
  },
  {
   "cell_type": "code",
   "execution_count": 9,
   "metadata": {},
   "outputs": [
    {
     "name": "stdout",
     "output_type": "stream",
     "text": [
      "macroaveraged F1 of Single MLP:  0.7552723074957566\n"
     ]
    }
   ],
   "source": [
    "y_un_smlppred = un_single_mlp.predict(test_x)\n",
    "macro_F11 = f1_score(test_y, y_un_smlppred, average='macro')\n",
    "print('macroaveraged F1 of Single MLP: ', macro_F11)"
   ]
  },
  {
   "cell_type": "code",
   "execution_count": 10,
   "metadata": {},
   "outputs": [
    {
     "name": "stdout",
     "output_type": "stream",
     "text": [
      "accuracy score:  0.8902406055690727\n",
      "roc_auc score:  0.7210048780487806\n"
     ]
    }
   ],
   "source": [
    "auc1 = accuracy_score(test_y, y_un_smlppred)\n",
    "ROC_auc1 = roc_auc_score(test_y, y_un_smlppred)\n",
    "print('accuracy score: ', auc1)\n",
    "print('roc_auc score: ', ROC_auc1)"
   ]
  },
  {
   "cell_type": "code",
   "execution_count": 11,
   "metadata": {},
   "outputs": [],
   "source": [
    "#unbalanced Multi layers\n",
    "un_multi_mlp = MLPClassifier(hidden_layer_sizes=(50,50,50,50),max_iter=300,random_state = 42,learning_rate_init=0.001).fit(train_x,train_y.values.ravel())"
   ]
  },
  {
   "cell_type": "code",
   "execution_count": 12,
   "metadata": {},
   "outputs": [
    {
     "name": "stdout",
     "output_type": "stream",
     "text": [
      "macroaveraged F1 of Multi MLP:  0.7387607393597695\n"
     ]
    }
   ],
   "source": [
    "y_un_mmlppred = un_multi_mlp.predict(test_x)\n",
    "macro_F12 = f1_score(test_y, y_un_mmlppred, average='macro')\n",
    "print('macroaveraged F1 of Multi MLP: ', macro_F12)"
   ]
  },
  {
   "cell_type": "code",
   "execution_count": 13,
   "metadata": {},
   "outputs": [
    {
     "name": "stdout",
     "output_type": "stream",
     "text": [
      "accuracy score:  0.8878075155447418\n",
      "roc_auc score:  0.6996546341463414\n"
     ]
    }
   ],
   "source": [
    "auc2 = accuracy_score(test_y, y_un_mmlppred)\n",
    "ROC_auc2 = roc_auc_score(test_y, y_un_mmlppred)\n",
    "print('accuracy score: ', auc2)\n",
    "print('roc_auc score: ', ROC_auc2)"
   ]
  },
  {
   "cell_type": "code",
   "execution_count": 14,
   "metadata": {},
   "outputs": [],
   "source": [
    "#balanced single layer\n",
    "single_mlp = MLPClassifier(hidden_layer_sizes=(50),max_iter=300,random_state = 42,learning_rate_init=0.001).fit(train_b_x,train_b_y.values.ravel())"
   ]
  },
  {
   "cell_type": "code",
   "execution_count": 15,
   "metadata": {},
   "outputs": [
    {
     "name": "stdout",
     "output_type": "stream",
     "text": [
      "macroaveraged F1 of Single MLP:  0.7069512716839467\n"
     ]
    }
   ],
   "source": [
    "y_smlppred = single_mlp.predict(test_x)\n",
    "macro_F13 = f1_score(test_y, y_smlppred, average='macro')\n",
    "print('macroaveraged F1 of Single MLP: ', macro_F13)"
   ]
  },
  {
   "cell_type": "code",
   "execution_count": 16,
   "metadata": {},
   "outputs": [
    {
     "name": "stdout",
     "output_type": "stream",
     "text": [
      "accuracy score:  0.8796972154636388\n",
      "roc_auc score:  0.6678335888501743\n"
     ]
    }
   ],
   "source": [
    "auc3 = accuracy_score(test_y, y_smlppred)\n",
    "ROC_auc3 = roc_auc_score(test_y, y_smlppred)\n",
    "print('accuracy score: ', auc3)\n",
    "print('roc_auc score: ', ROC_auc3)"
   ]
  },
  {
   "cell_type": "code",
   "execution_count": 17,
   "metadata": {},
   "outputs": [],
   "source": [
    "#balanced multi layer\n",
    "multi_mlp = MLPClassifier(hidden_layer_sizes=(50,50,50,50),max_iter=300,random_state = 42,learning_rate_init=0.001).fit(train_b_x,train_b_y.values.ravel())\n",
    "\n"
   ]
  },
  {
   "cell_type": "code",
   "execution_count": 18,
   "metadata": {},
   "outputs": [
    {
     "name": "stdout",
     "output_type": "stream",
     "text": [
      "macroaveraged F1 of Single MLP:  0.735611703621261\n"
     ]
    }
   ],
   "source": [
    "y_mmlppred = multi_mlp.predict(test_x)\n",
    "macro_F14 = f1_score(test_y, y_mmlppred, average='macro')\n",
    "print('macroaveraged F1 of Single MLP: ', macro_F14)"
   ]
  },
  {
   "cell_type": "code",
   "execution_count": 19,
   "metadata": {},
   "outputs": [
    {
     "name": "stdout",
     "output_type": "stream",
     "text": [
      "accuracy score:  0.8788861854555285\n",
      "roc_auc score:  0.7078851567944251\n"
     ]
    }
   ],
   "source": [
    "auc4 = accuracy_score(test_y, y_mmlppred)\n",
    "ROC_auc4 = roc_auc_score(test_y, y_mmlppred)\n",
    "print('accuracy score: ', auc4)\n",
    "print('roc_auc score: ', ROC_auc4)"
   ]
  }
 ],
 "metadata": {
  "kernelspec": {
   "display_name": "Python 3",
   "language": "python",
   "name": "python3"
  },
  "language_info": {
   "codemirror_mode": {
    "name": "ipython",
    "version": 3
   },
   "file_extension": ".py",
   "mimetype": "text/x-python",
   "name": "python",
   "nbconvert_exporter": "python",
   "pygments_lexer": "ipython3",
   "version": "3.7.4"
  },
  "varInspector": {
   "cols": {
    "lenName": 16,
    "lenType": 16,
    "lenVar": 40
   },
   "kernels_config": {
    "python": {
     "delete_cmd_postfix": "",
     "delete_cmd_prefix": "del ",
     "library": "var_list.py",
     "varRefreshCmd": "print(var_dic_list())"
    },
    "r": {
     "delete_cmd_postfix": ") ",
     "delete_cmd_prefix": "rm(",
     "library": "var_list.r",
     "varRefreshCmd": "cat(var_dic_list()) "
    }
   },
   "types_to_exclude": [
    "module",
    "function",
    "builtin_function_or_method",
    "instance",
    "_Feature"
   ],
   "window_display": false
  }
 },
 "nbformat": 4,
 "nbformat_minor": 2
}
